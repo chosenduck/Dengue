{
 "cells": [
  {
   "cell_type": "code",
   "execution_count": null,
   "metadata": {},
   "outputs": [],
   "source": [
    "import glob, os\n",
    "import numpy as np\n",
    "import pandas as pd\n",
    "import matplotlib.pyplot as plt"
   ]
  },
  {
   "cell_type": "code",
   "execution_count": null,
   "metadata": {},
   "outputs": [],
   "source": [
    "\n",
    "def list_files(dir_name):\n",
    "    '''\n",
    "    List all files from a directory, sorted by name\n",
    "    '''\n",
    "    return sorted(\n",
    "        filter(\n",
    "            lambda f: f.startswith(\"INMET_SE\"),\n",
    "            glob.glob(dir_name + \"/*\")\n",
    "        )\n",
    "    )"
   ]
  },
  {
   "cell_type": "code",
   "execution_count": 4,
   "metadata": {},
   "outputs": [
    {
     "ename": "NameError",
     "evalue": "name 'isudhfgoiasuhrgowershgoirhjgorihgg' is not defined",
     "output_type": "error",
     "traceback": [
      "\u001b[1;31m---------------------------------------------------------------------------\u001b[0m",
      "\u001b[1;31mNameError\u001b[0m                                 Traceback (most recent call last)",
      "Cell \u001b[1;32mIn[4], line 1\u001b[0m\n\u001b[1;32m----> 1\u001b[0m \u001b[43misudhfgoiasuhrgowershgoirhjgorihgg\u001b[49m\n",
      "\u001b[1;31mNameError\u001b[0m: name 'isudhfgoiasuhrgowershgoirhjgorihgg' is not defined"
     ]
    }
   ],
   "source": [
    "isudhfgoiasuhrgowershgoirhjgorihgg"
   ]
  }
 ],
 "metadata": {
  "kernelspec": {
   "display_name": "Python 3",
   "language": "python",
   "name": "python3"
  },
  "language_info": {
   "codemirror_mode": {
    "name": "ipython",
    "version": 3
   },
   "file_extension": ".py",
   "mimetype": "text/x-python",
   "name": "python",
   "nbconvert_exporter": "python",
   "pygments_lexer": "ipython3",
   "version": "3.12.1"
  }
 },
 "nbformat": 4,
 "nbformat_minor": 2
}
